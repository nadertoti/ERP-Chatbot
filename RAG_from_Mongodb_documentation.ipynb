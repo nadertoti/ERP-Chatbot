{
  "cells": [
    {
      "cell_type": "markdown",
      "metadata": {
        "id": "view-in-github",
        "colab_type": "text"
      },
      "source": [
        "<a href=\"https://colab.research.google.com/github/nadertoti/ERP-Chatbot/blob/main/RAG_from_Mongodb_documentation.ipynb\" target=\"_parent\"><img src=\"https://colab.research.google.com/assets/colab-badge.svg\" alt=\"Open In Colab\"/></a>"
      ]
    },
    {
      "cell_type": "code",
      "execution_count": null,
      "metadata": {
        "id": "Jkmx78CPFPK3"
      },
      "outputs": [],
      "source": [
        "pip install --quiet pymongo sentence_transformers einops langchain langchain_community pypdf huggingface_hub"
      ]
    },
    {
      "cell_type": "code",
      "execution_count": null,
      "metadata": {
        "colab": {
          "background_save": true
        },
        "id": "gQG48M7iFatw"
      },
      "outputs": [],
      "source": [
        "from sentence_transformers import SentenceTransformer\n",
        "\n",
        "# Load the embedding model (https://huggingface.co/nomic-ai/nomic-embed-text-v1\")\n",
        "model = SentenceTransformer(\"nomic-ai/nomic-embed-text-v1\", trust_remote_code=True)\n",
        "\n",
        "# Define a function to generate embeddings\n",
        "def get_embedding(data):\n",
        "    \"\"\"Generates vector embeddings for the given data.\"\"\"\n",
        "\n",
        "    embedding = model.encode(data)\n",
        "    return embedding.tolist()"
      ]
    },
    {
      "cell_type": "code",
      "source": [
        "from langchain_community.document_loaders import PyPDFLoader\n",
        "from langchain.text_splitter import RecursiveCharacterTextSplitter\n",
        "\n",
        "# Load the PDF\n",
        "loader = PyPDFLoader(\"https://investors.mongodb.com/node/12236/pdf\")\n",
        "data = loader.load()\n",
        "\n",
        "# Split the data into chunks\n",
        "text_splitter = RecursiveCharacterTextSplitter(chunk_size=400, chunk_overlap=20)\n",
        "documents = text_splitter.split_documents(data)\n",
        "---------------------------------------------------------------\n",
        "# Prepare documents for insertion\n",
        "docs_to_insert = [{\n",
        "    \"text\": doc.page_content,\n",
        "    \"embedding\": get_embedding(doc.page_content)\n",
        "} for doc in documents]"
      ],
      "metadata": {
        "id": "bfM-UXw25bvX"
      },
      "execution_count": null,
      "outputs": []
    },
    {
      "cell_type": "code",
      "source": [
        "from pymongo import MongoClient\n",
        "\n",
        "# Connect to your Atlas cluster\n",
        "client = MongoClient(\"<connection-string>\")\n",
        "collection = client[\"rag_db\"][\"test\"]\n",
        "\n",
        "# Insert documents into the collection\n",
        "result = collection.insert_many(docs_to_insert)"
      ],
      "metadata": {
        "id": "heVbzmC25hqu"
      },
      "execution_count": null,
      "outputs": []
    },
    {
      "cell_type": "code",
      "source": [
        "from pymongo.operations import SearchIndexModel\n",
        "import time\n",
        "\n",
        "# Create your index model, then create the search index\n",
        "index_name=\"vector_index\"\n",
        "search_index_model = SearchIndexModel(\n",
        "  definition = {\n",
        "    \"fields\": [\n",
        "      {\n",
        "        \"type\": \"vector\",\n",
        "        \"numDimensions\": 768,\n",
        "        \"path\": \"embedding\",\n",
        "        \"similarity\": \"cosine\"\n",
        "      }\n",
        "    ]\n",
        "  },\n",
        "  name = index_name,\n",
        "  type = \"vectorSearch\"\n",
        ")\n",
        "collection.create_search_index(model=search_index_model)\n",
        "\n",
        "# Wait for initial sync to complete\n",
        "print(\"Polling to check if the index is ready. This may take up to a minute.\")\n",
        "predicate=None\n",
        "if predicate is None:\n",
        "   predicate = lambda index: index.get(\"queryable\") is True\n",
        "\n",
        "while True:\n",
        "   indices = list(collection.list_search_indexes(index_name))\n",
        "   if len(indices) and predicate(indices[0]):\n",
        "      break\n",
        "   time.sleep(5)\n",
        "print(index_name + \" is ready for querying.\")"
      ],
      "metadata": {
        "id": "fDHDwhvJ5lFn"
      },
      "execution_count": null,
      "outputs": []
    },
    {
      "cell_type": "code",
      "source": [
        "# Define a function to run vector search queries\n",
        "def get_query_results(query):\n",
        "  \"\"\"Gets results from a vector search query.\"\"\"\n",
        "\n",
        "  query_embedding = get_embedding(query)\n",
        "  pipeline = [\n",
        "      {\n",
        "            \"$vectorSearch\": {\n",
        "              \"index\": \"vector_index\",\n",
        "              \"queryVector\": query_embedding,\n",
        "              \"path\": \"embedding\",\n",
        "              \"exact\": True,\n",
        "              \"limit\": 5\n",
        "            }\n",
        "      }, {\n",
        "            \"$project\": {\n",
        "              \"_id\": 0,\n",
        "              \"text\": 1\n",
        "         }\n",
        "      }\n",
        "  ]\n",
        "\n",
        "  results = collection.aggregate(pipeline)\n",
        "\n",
        "  array_of_results = []\n",
        "  for doc in results:\n",
        "      array_of_results.append(doc)\n",
        "  return array_of_results\n",
        "\n",
        "# Test the function with a sample query\n",
        "import pprint\n",
        "pprint.pprint(get_query_results(\"AI technology\"))"
      ],
      "metadata": {
        "id": "c4QUGprj5pJG"
      },
      "execution_count": null,
      "outputs": []
    },
    {
      "cell_type": "code",
      "source": [
        "import os\n",
        "from huggingface_hub import InferenceClient\n",
        "\n",
        "# Specify search query, retrieve relevant documents, and convert to string\n",
        "query = \"What are MongoDB's latest AI announcements?\"\n",
        "context_docs = get_query_results(query)\n",
        "context_string = \" \".join([doc[\"text\"] for doc in context_docs])\n",
        "\n",
        "# Construct prompt for the LLM using the retrieved documents as the context\n",
        "prompt = f\"\"\"Use the following pieces of context to answer the question at the end.\n",
        "    {context_string}\n",
        "    Question: {query}\n",
        "\"\"\"\n",
        "\n",
        "# Authenticate to Hugging Face and access the model\n",
        "os.environ[\"HF_TOKEN\"] = \"<token>\"\n",
        "llm = InferenceClient(\n",
        "    \"mistralai/Mistral-7B-Instruct-v0.3\",\n",
        "    token = os.getenv(\"HF_TOKEN\"))\n",
        "\n",
        "# Prompt the LLM (this code varies depending on the model you use)\n",
        "output = llm.chat_completion(\n",
        "    messages=[{\"role\": \"user\", \"content\": prompt}],\n",
        "    max_tokens=150\n",
        ")\n",
        "print(output.choices[0].message.content)"
      ],
      "metadata": {
        "id": "4scNlM2g5rzG"
      },
      "execution_count": null,
      "outputs": []
    }
  ],
  "metadata": {
    "colab": {
      "provenance": [],
      "authorship_tag": "ABX9TyOdWGex7EnCqtR+TS75EsC+",
      "include_colab_link": true
    },
    "kernelspec": {
      "display_name": "Python 3",
      "name": "python3"
    },
    "language_info": {
      "name": "python"
    }
  },
  "nbformat": 4,
  "nbformat_minor": 0
}